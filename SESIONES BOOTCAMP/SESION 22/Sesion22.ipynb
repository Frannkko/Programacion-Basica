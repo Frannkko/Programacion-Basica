{
  "nbformat": 4,
  "nbformat_minor": 0,
  "metadata": {
    "colab": {
      "provenance": [],
      "toc_visible": true
    },
    "kernelspec": {
      "name": "python3",
      "display_name": "Python 3"
    },
    "language_info": {
      "name": "python"
    }
  },
  "cells": [
    {
      "cell_type": "markdown",
      "source": [
        "#PANDAS Operaciones Básicas con Datos en Python\n",
        "\n",
        "Trabajar con datos estructurados es esencial en el análisis de datos y la ciencia de datos. Pandas, una biblioteca de Python, facilita la manipulación, transformación y análisis de datos de manera eficiente. Este tutorial cubre las operaciones básicas que puedes realizar con Pandas.\n"
      ],
      "metadata": {
        "id": "B5CljuFgKwIP"
      }
    },
    {
      "cell_type": "code",
      "execution_count": 6,
      "metadata": {
        "colab": {
          "base_uri": "https://localhost:8080/"
        },
        "id": "NKnZrEbPH0Wx",
        "outputId": "c84075eb-941c-4a2d-aac2-3d271a770ab5"
      },
      "outputs": [
        {
          "output_type": "stream",
          "name": "stdout",
          "text": [
            "DataFrame original:\n",
            "  Nombre  Edad    Ciudad  Salario\n",
            "0    Ana    23    Bogotá     3000\n",
            "1   Luis    34      Lima     4000\n",
            "2  Sofía    29  Santiago     3500\n",
            "3   Juan    31     Quito     4200\n",
            "DataFrame SEGUNDO:\n",
            "    Nombre  Edad    Ciudad  Salario\n",
            "0      Ana    23    Bogotá     3000\n",
            "1     Luis    34      Lima     4000\n",
            "2    Sofía    29  Santiago     3500\n",
            "3     Juan    31     Quito     4200\n",
            "4    Anita    23    Bogotá     3000\n",
            "5    Luisa    34      Lima     4000\n",
            "6  Sofanor    29  Santiago     3500\n",
            "7  Juanita    31     Quito     4200\n"
          ]
        }
      ],
      "source": [
        "#@title Importar Pandas y Crear un DataFrame\n",
        "\n",
        "#Primero, importamos la biblioteca y creamos un DataFrame para trabajar.\n",
        "import pandas as pd\n",
        "\n",
        "# Crear un DataFrame de ejemplo\n",
        "data = {\n",
        "    'Nombre': ['Ana', 'Luis', 'Sofía', 'Juan'],\n",
        "    'Edad': [23, 34, 29, 31],\n",
        "    'Ciudad': ['Bogotá', 'Lima', 'Santiago', 'Quito'],\n",
        "    'Salario': [3000, 4000, 3500, 4200]\n",
        "}\n",
        "df = pd.DataFrame(data)\n",
        "print(\"DataFrame original:\")\n",
        "print(df)\n",
        "\n",
        "\n",
        "data1 = {\n",
        "    'Nombre': ['Ana', 'Luis', 'Sofía', 'Juan', 'Anita', 'Luisa', 'Sofanor', 'Juanita'],\n",
        "    'Edad': [23, 34, 29, 31, 23, 34, 29, 31],\n",
        "    'Ciudad': ['Bogotá', 'Lima', 'Santiago', 'Quito','Bogotá', 'Lima', 'Santiago', 'Quito'],\n",
        "    'Salario': [3000, 4000, 3500, 4200,3000, 4000, 3500, 4200]\n",
        "}\n",
        "df1 = pd.DataFrame(data1)\n",
        "print(\"DataFrame SEGUNDO:\")\n",
        "print(df1)"
      ]
    },
    {
      "cell_type": "markdown",
      "source": [
        "##Inspección de los Datos"
      ],
      "metadata": {
        "id": "7vrn45vfNA7o"
      }
    },
    {
      "cell_type": "code",
      "source": [
        "#@title Ver las primeras y últimas filas del DataFrame:\n",
        "print(\"Dataframe ORIGINAL:\\n\")\n",
        "print(\"Primeras filas:\")\n",
        "print(df.head())  # Primeras 5 filas\n",
        "\n",
        "print(\"Últimas filas:\")\n",
        "print(df.tail(2))  # Últimas 2 filas\n",
        "\n",
        "print(\"\\nDataframe SEGUNDO:\")\n",
        "print(\"Primeras filas:\")\n",
        "print(df1.head(7))  # Primeras 5 filas\n"
      ],
      "metadata": {
        "colab": {
          "base_uri": "https://localhost:8080/"
        },
        "id": "gJqvMGq-L6XF",
        "outputId": "85eb0ed8-4474-484b-dc55-30ebf2a73a22"
      },
      "execution_count": 7,
      "outputs": [
        {
          "output_type": "stream",
          "name": "stdout",
          "text": [
            "Dataframe ORIGINAL:\n",
            "\n",
            "Primeras filas:\n",
            "  Nombre  Edad    Ciudad  Salario\n",
            "0    Ana    23    Bogotá     3000\n",
            "1   Luis    34      Lima     4000\n",
            "2  Sofía    29  Santiago     3500\n",
            "3   Juan    31     Quito     4200\n",
            "Últimas filas:\n",
            "  Nombre  Edad    Ciudad  Salario\n",
            "2  Sofía    29  Santiago     3500\n",
            "3   Juan    31     Quito     4200\n",
            "\n",
            "Dataframe SEGUNDO:\n",
            "Primeras filas:\n",
            "    Nombre  Edad    Ciudad  Salario\n",
            "0      Ana    23    Bogotá     3000\n",
            "1     Luis    34      Lima     4000\n",
            "2    Sofía    29  Santiago     3500\n",
            "3     Juan    31     Quito     4200\n",
            "4    Anita    23    Bogotá     3000\n",
            "5    Luisa    34      Lima     4000\n",
            "6  Sofanor    29  Santiago     3500\n"
          ]
        }
      ]
    },
    {
      "cell_type": "code",
      "source": [
        "#@title Resumen de información del DataFrame:\n",
        "print(\"Información del DataFrame:\")\n",
        "print(df.info())\n"
      ],
      "metadata": {
        "colab": {
          "base_uri": "https://localhost:8080/"
        },
        "id": "8csynf4HMQpt",
        "outputId": "990a60bc-678a-4413-937f-13754c50765f"
      },
      "execution_count": 8,
      "outputs": [
        {
          "output_type": "stream",
          "name": "stdout",
          "text": [
            "Información del DataFrame:\n",
            "<class 'pandas.core.frame.DataFrame'>\n",
            "RangeIndex: 4 entries, 0 to 3\n",
            "Data columns (total 4 columns):\n",
            " #   Column   Non-Null Count  Dtype \n",
            "---  ------   --------------  ----- \n",
            " 0   Nombre   4 non-null      object\n",
            " 1   Edad     4 non-null      int64 \n",
            " 2   Ciudad   4 non-null      object\n",
            " 3   Salario  4 non-null      int64 \n",
            "dtypes: int64(2), object(2)\n",
            "memory usage: 256.0+ bytes\n",
            "None\n"
          ]
        }
      ]
    },
    {
      "cell_type": "code",
      "source": [
        "#@title Estadísticas descriptivas:\n",
        "print(\"Estadísticas descriptivas:\")\n",
        "print(df.describe())  # Solo aplica a columnas numéricas\n"
      ],
      "metadata": {
        "colab": {
          "base_uri": "https://localhost:8080/"
        },
        "id": "4F_GRkFjMlk_",
        "outputId": "67f07731-e45c-486a-d045-4892a06bd44b"
      },
      "execution_count": 9,
      "outputs": [
        {
          "output_type": "stream",
          "name": "stdout",
          "text": [
            "Estadísticas descriptivas:\n",
            "            Edad      Salario\n",
            "count   4.000000     4.000000\n",
            "mean   29.250000  3675.000000\n",
            "std     4.645787   537.742193\n",
            "min    23.000000  3000.000000\n",
            "25%    27.500000  3375.000000\n",
            "50%    30.000000  3750.000000\n",
            "75%    31.750000  4050.000000\n",
            "max    34.000000  4200.000000\n"
          ]
        }
      ]
    },
    {
      "cell_type": "markdown",
      "source": [
        "##Selección de Datos"
      ],
      "metadata": {
        "id": "hBh_qybWNPOj"
      }
    },
    {
      "cell_type": "code",
      "source": [
        "#@title Seleccionar una columna:\n",
        "print(\"Dataframe ORIGINAL:\\n\",df)\n",
        "print(\"Columna 'Nombre':\")\n",
        "print(df['Nombre'])\n"
      ],
      "metadata": {
        "colab": {
          "base_uri": "https://localhost:8080/"
        },
        "id": "4-BoS0a_NSwq",
        "outputId": "cd333d53-96df-4902-8b86-7f18fa061dd1"
      },
      "execution_count": 10,
      "outputs": [
        {
          "output_type": "stream",
          "name": "stdout",
          "text": [
            "Dataframe ORIGINAL:\n",
            "   Nombre  Edad    Ciudad  Salario\n",
            "0    Ana    23    Bogotá     3000\n",
            "1   Luis    34      Lima     4000\n",
            "2  Sofía    29  Santiago     3500\n",
            "3   Juan    31     Quito     4200\n",
            "Columna 'Nombre':\n",
            "0      Ana\n",
            "1     Luis\n",
            "2    Sofía\n",
            "3     Juan\n",
            "Name: Nombre, dtype: object\n"
          ]
        }
      ]
    },
    {
      "cell_type": "code",
      "source": [
        "#@title Seleccionar varias columnas:\n",
        "print(\"Dataframe ORIGINAL:\\n\",df)\n",
        "print(\"Columnas 'Nombre' y 'Salario':\")\n",
        "print(df[['Nombre', 'Salario']])\n"
      ],
      "metadata": {
        "colab": {
          "base_uri": "https://localhost:8080/"
        },
        "id": "pxR--yTZNrml",
        "outputId": "a467f47c-7a72-486a-d13a-3c60eb990871"
      },
      "execution_count": 11,
      "outputs": [
        {
          "output_type": "stream",
          "name": "stdout",
          "text": [
            "Dataframe ORIGINAL:\n",
            "   Nombre  Edad    Ciudad  Salario\n",
            "0    Ana    23    Bogotá     3000\n",
            "1   Luis    34      Lima     4000\n",
            "2  Sofía    29  Santiago     3500\n",
            "3   Juan    31     Quito     4200\n",
            "Columnas 'Nombre' y 'Salario':\n",
            "  Nombre  Salario\n",
            "0    Ana     3000\n",
            "1   Luis     4000\n",
            "2  Sofía     3500\n",
            "3   Juan     4200\n"
          ]
        }
      ]
    },
    {
      "cell_type": "code",
      "source": [
        "#@title Seleccionar una fila por índice:\n",
        "print(\"Dataframe ORIGINAL:\\n\",df)\n",
        "print(\"Primera fila:\")\n",
        "print(df.iloc[2])  # Basado en la posición\n"
      ],
      "metadata": {
        "colab": {
          "base_uri": "https://localhost:8080/"
        },
        "id": "NKbhGsg_N3YY",
        "outputId": "e23cffa1-6f32-4eec-c363-dd3c98e3cfa8"
      },
      "execution_count": 12,
      "outputs": [
        {
          "output_type": "stream",
          "name": "stdout",
          "text": [
            "Dataframe ORIGINAL:\n",
            "   Nombre  Edad    Ciudad  Salario\n",
            "0    Ana    23    Bogotá     3000\n",
            "1   Luis    34      Lima     4000\n",
            "2  Sofía    29  Santiago     3500\n",
            "3   Juan    31     Quito     4200\n",
            "Primera fila:\n",
            "Nombre        Sofía\n",
            "Edad             29\n",
            "Ciudad     Santiago\n",
            "Salario        3500\n",
            "Name: 2, dtype: object\n"
          ]
        }
      ]
    },
    {
      "cell_type": "code",
      "source": [
        "#@title Seleccionar un rango de filas:\n",
        "print(\"Dataframe ORIGINAL:\\n\",df)\n",
        "print(\"Primero y segundo registros:\")\n",
        "print(df.iloc[0:2])  # Filas de la posición 0 a la 1\n"
      ],
      "metadata": {
        "colab": {
          "base_uri": "https://localhost:8080/"
        },
        "id": "kyZKk65mOGdO",
        "outputId": "cca08569-d912-4a85-f158-d8a632f1dbb7"
      },
      "execution_count": 13,
      "outputs": [
        {
          "output_type": "stream",
          "name": "stdout",
          "text": [
            "Dataframe ORIGINAL:\n",
            "   Nombre  Edad    Ciudad  Salario\n",
            "0    Ana    23    Bogotá     3000\n",
            "1   Luis    34      Lima     4000\n",
            "2  Sofía    29  Santiago     3500\n",
            "3   Juan    31     Quito     4200\n",
            "Primero y segundo registros:\n",
            "  Nombre  Edad  Ciudad  Salario\n",
            "0    Ana    23  Bogotá     3000\n",
            "1   Luis    34    Lima     4000\n"
          ]
        }
      ]
    },
    {
      "cell_type": "code",
      "source": [
        "\n",
        "#@title Seleccionar un elemento específico:\n",
        "print(\"Elemento en la primera fila y tercera columna:\")\n",
        "print(df.iloc[0, 2])  # Fila 0, Columna 2\n"
      ],
      "metadata": {
        "colab": {
          "base_uri": "https://localhost:8080/"
        },
        "id": "-TUiE4-fOQSt",
        "outputId": "f685f377-ad3e-4369-a0ce-b1b49e062563"
      },
      "execution_count": 14,
      "outputs": [
        {
          "output_type": "stream",
          "name": "stdout",
          "text": [
            "Elemento en la primera fila y tercera columna:\n",
            "Bogotá\n"
          ]
        }
      ]
    },
    {
      "cell_type": "code",
      "source": [
        "#@title Visualizando filas NO contínuas\n",
        "print(\"Datos originales \\n\",df1)\n",
        "print(\"\\nVisualizando filas 0 y 2\")\n",
        "print(df1.iloc[[0,2,5,7]])"
      ],
      "metadata": {
        "colab": {
          "base_uri": "https://localhost:8080/"
        },
        "id": "QSVLjeEyCdml",
        "outputId": "6a8899c6-8208-4b1e-9ba0-9d35b63f54a9"
      },
      "execution_count": 15,
      "outputs": [
        {
          "output_type": "stream",
          "name": "stdout",
          "text": [
            "Datos originales \n",
            "     Nombre  Edad    Ciudad  Salario\n",
            "0      Ana    23    Bogotá     3000\n",
            "1     Luis    34      Lima     4000\n",
            "2    Sofía    29  Santiago     3500\n",
            "3     Juan    31     Quito     4200\n",
            "4    Anita    23    Bogotá     3000\n",
            "5    Luisa    34      Lima     4000\n",
            "6  Sofanor    29  Santiago     3500\n",
            "7  Juanita    31     Quito     4200\n",
            "\n",
            "Visualizando filas 0 y 2\n",
            "    Nombre  Edad    Ciudad  Salario\n",
            "0      Ana    23    Bogotá     3000\n",
            "2    Sofía    29  Santiago     3500\n",
            "5    Luisa    34      Lima     4000\n",
            "7  Juanita    31     Quito     4200\n"
          ]
        }
      ]
    },
    {
      "cell_type": "markdown",
      "source": [
        "##Filtrado de Datos"
      ],
      "metadata": {
        "id": "_nIEt3gROcBn"
      }
    },
    {
      "cell_type": "code",
      "source": [
        "#@title Filtrar por una condición:\n",
        "print(\"Datos originales \\n\",df)\n",
        "print(\"\\nPersonas con salario mayor a 3500:\")\n",
        "print(df[df['Salario'] > 3500])"
      ],
      "metadata": {
        "colab": {
          "base_uri": "https://localhost:8080/"
        },
        "id": "1Cf25ZHROfE_",
        "outputId": "810ad1c5-122e-46c1-f51d-41935630d5d4"
      },
      "execution_count": 16,
      "outputs": [
        {
          "output_type": "stream",
          "name": "stdout",
          "text": [
            "Datos originales \n",
            "   Nombre  Edad    Ciudad  Salario\n",
            "0    Ana    23    Bogotá     3000\n",
            "1   Luis    34      Lima     4000\n",
            "2  Sofía    29  Santiago     3500\n",
            "3   Juan    31     Quito     4200\n",
            "\n",
            "Personas con salario mayor a 3500:\n",
            "  Nombre  Edad Ciudad  Salario\n",
            "1   Luis    34   Lima     4000\n",
            "3   Juan    31  Quito     4200\n"
          ]
        }
      ]
    },
    {
      "cell_type": "code",
      "source": [
        "#@title Filtrar por múltiples condiciones:\n",
        "print(\"Datos originales \\n\",df)\n",
        "print(\"\\nPersonas mayores de 30 años en Lima:\")\n",
        "print(df[(df['Edad'] > 30) & (df['Ciudad'] == 'Lima')])\n",
        "\n",
        "print(\"\\nPersonas mayores de 32 años O menores de 25:\")\n",
        "print(df[(df['Edad'] > 32) | (df['Edad'] < 25)])\n"
      ],
      "metadata": {
        "colab": {
          "base_uri": "https://localhost:8080/"
        },
        "id": "qSEAokDROvzI",
        "outputId": "5270de11-76a5-4dbf-e2d3-9d37ab168a6a"
      },
      "execution_count": 19,
      "outputs": [
        {
          "output_type": "stream",
          "name": "stdout",
          "text": [
            "Datos originales \n",
            "   Nombre  Edad    Ciudad  Salario\n",
            "0    Ana    23    Bogotá     3000\n",
            "1   Luis    34      Lima     4000\n",
            "2  Sofía    29  Santiago     3500\n",
            "3   Juan    31     Quito     4200\n",
            "\n",
            "Personas mayores de 30 años en Lima:\n",
            "  Nombre  Edad Ciudad  Salario\n",
            "1   Luis    34   Lima     4000\n",
            "\n",
            "Personas mayores de 32 años O menores de 25:\n",
            "  Nombre  Edad  Ciudad  Salario\n",
            "0    Ana    23  Bogotá     3000\n",
            "1   Luis    34    Lima     4000\n"
          ]
        }
      ]
    },
    {
      "cell_type": "code",
      "source": [
        "#@title Uso de operadores isin para varios valores:\n",
        "print(\"Datos originales \\n\",df)\n",
        "print(\"\\nPersonas en Bogotá o Lima:\")\n",
        "print(df[df['Ciudad'].isin(['Bogotá', 'Lima'])])\n"
      ],
      "metadata": {
        "colab": {
          "base_uri": "https://localhost:8080/"
        },
        "id": "Vb_ZJzsbO6QI",
        "outputId": "509036f8-2fb3-4c62-d82c-fc8530bb724b"
      },
      "execution_count": 20,
      "outputs": [
        {
          "output_type": "stream",
          "name": "stdout",
          "text": [
            "Datos originales \n",
            "   Nombre  Edad    Ciudad  Salario\n",
            "0    Ana    23    Bogotá     3000\n",
            "1   Luis    34      Lima     4000\n",
            "2  Sofía    29  Santiago     3500\n",
            "3   Juan    31     Quito     4200\n",
            "\n",
            "Personas en Bogotá o Lima:\n",
            "  Nombre  Edad  Ciudad  Salario\n",
            "0    Ana    23  Bogotá     3000\n",
            "1   Luis    34    Lima     4000\n"
          ]
        }
      ]
    },
    {
      "cell_type": "markdown",
      "source": [
        "##Ordenar Datos"
      ],
      "metadata": {
        "id": "2SrrzW1SPLrt"
      }
    },
    {
      "cell_type": "code",
      "source": [
        "#@title Ordenar por una columna:\n",
        "print(\"Datos originales \\n\",df)\n",
        "print(\"\\nOrdenar por Nombre ASCENDENTE:\")\n",
        "print(df.sort_values(by='Nombre', ascending=True))\n",
        "print(\"\\nOrdenar por Nombre DESCENDENTE:\")\n",
        "print(df.sort_values(by='Nombre', ascending=False))\n",
        "\n"
      ],
      "metadata": {
        "colab": {
          "base_uri": "https://localhost:8080/"
        },
        "id": "MWvvh-qLPRU0",
        "outputId": "4dfba2e7-795e-47ac-81ea-8fe96a074b7d"
      },
      "execution_count": 21,
      "outputs": [
        {
          "output_type": "stream",
          "name": "stdout",
          "text": [
            "Datos originales \n",
            "   Nombre  Edad    Ciudad  Salario\n",
            "0    Ana    23    Bogotá     3000\n",
            "1   Luis    34      Lima     4000\n",
            "2  Sofía    29  Santiago     3500\n",
            "3   Juan    31     Quito     4200\n",
            "\n",
            "Ordenar por Nombre ASCENDENTE:\n",
            "  Nombre  Edad    Ciudad  Salario\n",
            "0    Ana    23    Bogotá     3000\n",
            "3   Juan    31     Quito     4200\n",
            "1   Luis    34      Lima     4000\n",
            "2  Sofía    29  Santiago     3500\n",
            "\n",
            "Ordenar por Nombre DESCENDENTE:\n",
            "  Nombre  Edad    Ciudad  Salario\n",
            "2  Sofía    29  Santiago     3500\n",
            "1   Luis    34      Lima     4000\n",
            "3   Juan    31     Quito     4200\n",
            "0    Ana    23    Bogotá     3000\n"
          ]
        }
      ]
    },
    {
      "cell_type": "code",
      "source": [
        "#@title Ordenar en orden descendente:\n",
        "print(\"Ordenar por edad (descendente):\")\n",
        "print(df.sort_values(by='Edad', ascending=False))\n"
      ],
      "metadata": {
        "colab": {
          "base_uri": "https://localhost:8080/"
        },
        "id": "zkXpN7SnPeXu",
        "outputId": "702bb4bb-adb9-4afc-8ab4-ffa36d05207a"
      },
      "execution_count": 22,
      "outputs": [
        {
          "output_type": "stream",
          "name": "stdout",
          "text": [
            "Ordenar por edad (descendente):\n",
            "  Nombre  Edad    Ciudad  Salario\n",
            "1   Luis    34      Lima     4000\n",
            "3   Juan    31     Quito     4200\n",
            "2  Sofía    29  Santiago     3500\n",
            "0    Ana    23    Bogotá     3000\n"
          ]
        }
      ]
    },
    {
      "cell_type": "markdown",
      "source": [
        "##Agregar y Modificar Columnas"
      ],
      "metadata": {
        "id": "K6vNtm5WPqa0"
      }
    },
    {
      "cell_type": "code",
      "source": [
        "#@title Agregar una nueva columna:\n",
        "print(\"Datos originales \\n\",df)\n",
        "df['Años_Desde_Graduación'] = [2, 10, 6, 7]\n",
        "print(\"\\nDataFrame con nueva columna:\")\n",
        "print(df)\n"
      ],
      "metadata": {
        "colab": {
          "base_uri": "https://localhost:8080/"
        },
        "id": "XE42wPyiPvwc",
        "outputId": "2f4bc83c-0472-4f91-8f66-f325258ff1cd"
      },
      "execution_count": 23,
      "outputs": [
        {
          "output_type": "stream",
          "name": "stdout",
          "text": [
            "Datos originales \n",
            "   Nombre  Edad    Ciudad  Salario\n",
            "0    Ana    23    Bogotá     3000\n",
            "1   Luis    34      Lima     4000\n",
            "2  Sofía    29  Santiago     3500\n",
            "3   Juan    31     Quito     4200\n",
            "\n",
            "DataFrame con nueva columna:\n",
            "  Nombre  Edad    Ciudad  Salario  Años_Desde_Graduación\n",
            "0    Ana    23    Bogotá     3000                      2\n",
            "1   Luis    34      Lima     4000                     10\n",
            "2  Sofía    29  Santiago     3500                      6\n",
            "3   Juan    31     Quito     4200                      7\n"
          ]
        }
      ]
    },
    {
      "cell_type": "code",
      "source": [
        "#@title Agregar una nueva columna al PRINCIPIO:\n",
        "#OJO si hago es debo ejecutar la primera instrucción de construcción del dataframe para seguir la secuencia\n",
        "\n",
        "print(\"Datos originales \\n\",df)\n",
        "df.insert(0,'Profesion',['Admin', 'Ingeniero','Secretaria', 'Sociologo'])\n",
        "print(\"\\nDataFrame con nueva columna:\")\n",
        "print(df)\n"
      ],
      "metadata": {
        "colab": {
          "base_uri": "https://localhost:8080/"
        },
        "id": "OaoxEQxvHcsz",
        "outputId": "7f95abfc-e721-4845-95c7-39e4009f60cd"
      },
      "execution_count": 24,
      "outputs": [
        {
          "output_type": "stream",
          "name": "stdout",
          "text": [
            "Datos originales \n",
            "   Nombre  Edad    Ciudad  Salario  Años_Desde_Graduación\n",
            "0    Ana    23    Bogotá     3000                      2\n",
            "1   Luis    34      Lima     4000                     10\n",
            "2  Sofía    29  Santiago     3500                      6\n",
            "3   Juan    31     Quito     4200                      7\n",
            "\n",
            "DataFrame con nueva columna:\n",
            "    Profesion Nombre  Edad    Ciudad  Salario  Años_Desde_Graduación\n",
            "0       Admin    Ana    23    Bogotá     3000                      2\n",
            "1   Ingeniero   Luis    34      Lima     4000                     10\n",
            "2  Secretaria  Sofía    29  Santiago     3500                      6\n",
            "3   Sociologo   Juan    31     Quito     4200                      7\n"
          ]
        }
      ]
    },
    {
      "cell_type": "code",
      "source": [
        "#@title eliminar una columna:\n",
        "print(\"Datos Con la nueva columna PROFESION \\n\",df)\n",
        "df.drop(1,axis=0,inplace=True)\n",
        "print(\"\\nDataFrame ORIGINAL (luego de eliminar PROFESION):\")\n",
        "print(df)"
      ],
      "metadata": {
        "colab": {
          "base_uri": "https://localhost:8080/"
        },
        "id": "SICK7uFpIfcy",
        "outputId": "2a6c96a6-60d4-4b79-fd9a-1188431134c3"
      },
      "execution_count": 25,
      "outputs": [
        {
          "output_type": "stream",
          "name": "stdout",
          "text": [
            "Datos Con la nueva columna PROFESION \n",
            "     Profesion Nombre  Edad    Ciudad  Salario  Años_Desde_Graduación\n",
            "0       Admin    Ana    23    Bogotá     3000                      2\n",
            "1   Ingeniero   Luis    34      Lima     4000                     10\n",
            "2  Secretaria  Sofía    29  Santiago     3500                      6\n",
            "3   Sociologo   Juan    31     Quito     4200                      7\n",
            "\n",
            "DataFrame ORIGINAL (luego de eliminar PROFESION):\n",
            "    Profesion Nombre  Edad    Ciudad  Salario  Años_Desde_Graduación\n",
            "0       Admin    Ana    23    Bogotá     3000                      2\n",
            "2  Secretaria  Sofía    29  Santiago     3500                      6\n",
            "3   Sociologo   Juan    31     Quito     4200                      7\n"
          ]
        }
      ]
    },
    {
      "cell_type": "code",
      "source": [
        "#@title Modificar una columna existente:\n",
        "print(\"Datos luego de haber agregado una columna \\n\",df)\n",
        "df['Salario'] = df['Salario'] * 1.10  # Incrementar salario en 10%\n",
        "print(\"\\nDataFrame con salario actualizado:\")\n",
        "print(df)\n"
      ],
      "metadata": {
        "colab": {
          "base_uri": "https://localhost:8080/"
        },
        "id": "HwdaBCdmQAat",
        "outputId": "e4c11ae4-fd2b-4ff6-daf3-80c6e2e189fe"
      },
      "execution_count": 26,
      "outputs": [
        {
          "output_type": "stream",
          "name": "stdout",
          "text": [
            "Datos luego de haber agregado una columna \n",
            "     Profesion Nombre  Edad    Ciudad  Salario  Años_Desde_Graduación\n",
            "0       Admin    Ana    23    Bogotá     3000                      2\n",
            "2  Secretaria  Sofía    29  Santiago     3500                      6\n",
            "3   Sociologo   Juan    31     Quito     4200                      7\n",
            "\n",
            "DataFrame con salario actualizado:\n",
            "    Profesion Nombre  Edad    Ciudad  Salario  Años_Desde_Graduación\n",
            "0       Admin    Ana    23    Bogotá   3300.0                      2\n",
            "2  Secretaria  Sofía    29  Santiago   3850.0                      6\n",
            "3   Sociologo   Juan    31     Quito   4620.0                      7\n"
          ]
        }
      ]
    },
    {
      "cell_type": "markdown",
      "source": [
        "##Manejo de Valores Faltantes"
      ],
      "metadata": {
        "id": "lS4XWIAFQnxH"
      }
    },
    {
      "cell_type": "code",
      "source": [
        "#@title Identificar valores nulos:\n",
        "import numpy as np\n",
        "print(\"Dataframe 1:\",df1)\n",
        "df1[1,2]=np.nan\n",
        "df1[3,2]=np.nan\n",
        "df1[6,2]=np.nan\n",
        "print(\"Dataframe 1 con NULOS:\",df1)\n",
        "print(\"Valores nulos por columna:\")\n",
        "print(df1.isnull().sum())\n"
      ],
      "metadata": {
        "colab": {
          "base_uri": "https://localhost:8080/"
        },
        "id": "1LKtkCrHQLxL",
        "outputId": "1e8bfe33-8b80-4b59-a37c-10b3aea7d368"
      },
      "execution_count": 27,
      "outputs": [
        {
          "output_type": "stream",
          "name": "stdout",
          "text": [
            "Dataframe 1:     Nombre  Edad    Ciudad  Salario\n",
            "0      Ana    23    Bogotá     3000\n",
            "1     Luis    34      Lima     4000\n",
            "2    Sofía    29  Santiago     3500\n",
            "3     Juan    31     Quito     4200\n",
            "4    Anita    23    Bogotá     3000\n",
            "5    Luisa    34      Lima     4000\n",
            "6  Sofanor    29  Santiago     3500\n",
            "7  Juanita    31     Quito     4200\n",
            "Dataframe 1 con NULOS:     Nombre  Edad    Ciudad  Salario  (1, 2)  (3, 2)  (6, 2)\n",
            "0      Ana    23    Bogotá     3000     NaN     NaN     NaN\n",
            "1     Luis    34      Lima     4000     NaN     NaN     NaN\n",
            "2    Sofía    29  Santiago     3500     NaN     NaN     NaN\n",
            "3     Juan    31     Quito     4200     NaN     NaN     NaN\n",
            "4    Anita    23    Bogotá     3000     NaN     NaN     NaN\n",
            "5    Luisa    34      Lima     4000     NaN     NaN     NaN\n",
            "6  Sofanor    29  Santiago     3500     NaN     NaN     NaN\n",
            "7  Juanita    31     Quito     4200     NaN     NaN     NaN\n",
            "Valores nulos por columna:\n",
            "Nombre     0\n",
            "Edad       0\n",
            "Ciudad     0\n",
            "Salario    0\n",
            "(1, 2)     8\n",
            "(3, 2)     8\n",
            "(6, 2)     8\n",
            "dtype: int64\n"
          ]
        }
      ]
    },
    {
      "cell_type": "code",
      "source": [
        "#@title Rellenar valores nulos:\n",
        "df['Salario'].fillna(3000, inplace=True)  # Rellenar con un valor\n"
      ],
      "metadata": {
        "colab": {
          "base_uri": "https://localhost:8080/"
        },
        "id": "KwxtKtgZQcE0",
        "outputId": "5558aa61-883a-49d6-809d-f33a417c775e"
      },
      "execution_count": 28,
      "outputs": [
        {
          "output_type": "stream",
          "name": "stderr",
          "text": [
            "<ipython-input-28-192de51c000f>:2: FutureWarning: A value is trying to be set on a copy of a DataFrame or Series through chained assignment using an inplace method.\n",
            "The behavior will change in pandas 3.0. This inplace method will never work because the intermediate object on which we are setting values always behaves as a copy.\n",
            "\n",
            "For example, when doing 'df[col].method(value, inplace=True)', try using 'df.method({col: value}, inplace=True)' or df[col] = df[col].method(value) instead, to perform the operation inplace on the original object.\n",
            "\n",
            "\n",
            "  df['Salario'].fillna(3000, inplace=True)  # Rellenar con un valor\n"
          ]
        }
      ]
    },
    {
      "cell_type": "code",
      "source": [
        "#@title Eliminar filas con valores nulos:\n",
        "df.dropna(subset=['Salario'], inplace=True)\n"
      ],
      "metadata": {
        "id": "RCiKuB95RPu8"
      },
      "execution_count": 30,
      "outputs": []
    },
    {
      "cell_type": "markdown",
      "source": [
        "## Agrupación y Resumen de Datos"
      ],
      "metadata": {
        "id": "kEu0PgWqRa6A"
      }
    },
    {
      "cell_type": "code",
      "source": [
        "#@title Agrupar por una columna y calcular la media:\n",
        "data1 = {\n",
        "    'Nombre': ['Ana', 'Luis', 'Sofía', 'Juan', 'Anita', 'Luisa', 'Sofanor', 'Juanita'],\n",
        "    'Edad': [23, 34, 29, 31, 23, 34, 29, 31],\n",
        "    'Ciudad': ['Bogotá', 'Lima', 'Santiago', 'Quito','Bogotá', 'Lima', 'Santiago', 'Quito'],\n",
        "    'Salario': [3000, 4000, 3500, 4200,3500, 4400, 4500, 5200]\n",
        "}\n",
        "df1 = pd.DataFrame(data1)\n",
        "print(\"DataFrame SEGUNDO:\")\n",
        "print(df1)\n",
        "\n",
        "agrupado = df1.groupby('Ciudad')['Salario'].mean()\n",
        "print(\"Salario promedio por ciudad:\")\n",
        "print(agrupado)\n"
      ],
      "metadata": {
        "colab": {
          "base_uri": "https://localhost:8080/"
        },
        "id": "z0FQyef-RgES",
        "outputId": "a2b4b148-ebe0-46da-9bda-cfa4d70b0af6"
      },
      "execution_count": 31,
      "outputs": [
        {
          "output_type": "stream",
          "name": "stdout",
          "text": [
            "DataFrame SEGUNDO:\n",
            "    Nombre  Edad    Ciudad  Salario\n",
            "0      Ana    23    Bogotá     3000\n",
            "1     Luis    34      Lima     4000\n",
            "2    Sofía    29  Santiago     3500\n",
            "3     Juan    31     Quito     4200\n",
            "4    Anita    23    Bogotá     3500\n",
            "5    Luisa    34      Lima     4400\n",
            "6  Sofanor    29  Santiago     4500\n",
            "7  Juanita    31     Quito     5200\n",
            "Salario promedio por ciudad:\n",
            "Ciudad\n",
            "Bogotá      3250.0\n",
            "Lima        4200.0\n",
            "Quito       4700.0\n",
            "Santiago    4000.0\n",
            "Name: Salario, dtype: float64\n"
          ]
        }
      ]
    },
    {
      "cell_type": "code",
      "source": [
        "#@title Calcular múltiples estadísticas por grupo:\n",
        "print(\"Dataframe SEGUNDO:\")\n",
        "print(df1)\n",
        "estadisticas = df1.groupby('Ciudad')['Salario'].agg(['mean', 'max', 'min','sum'])\n",
        "print(\"\\nEstadísticas de salario por ciudad:\")\n",
        "print(estadisticas)\n"
      ],
      "metadata": {
        "colab": {
          "base_uri": "https://localhost:8080/"
        },
        "id": "8M13NDWrRrc8",
        "outputId": "9935f9d4-bad6-4609-b452-bdb91db02b38"
      },
      "execution_count": 32,
      "outputs": [
        {
          "output_type": "stream",
          "name": "stdout",
          "text": [
            "Dataframe SEGUNDO:\n",
            "    Nombre  Edad    Ciudad  Salario\n",
            "0      Ana    23    Bogotá     3000\n",
            "1     Luis    34      Lima     4000\n",
            "2    Sofía    29  Santiago     3500\n",
            "3     Juan    31     Quito     4200\n",
            "4    Anita    23    Bogotá     3500\n",
            "5    Luisa    34      Lima     4400\n",
            "6  Sofanor    29  Santiago     4500\n",
            "7  Juanita    31     Quito     5200\n",
            "\n",
            "Estadísticas de salario por ciudad:\n",
            "            mean   max   min   sum\n",
            "Ciudad                            \n",
            "Bogotá    3250.0  3500  3000  6500\n",
            "Lima      4200.0  4400  4000  8400\n",
            "Quito     4700.0  5200  4200  9400\n",
            "Santiago  4000.0  4500  3500  8000\n"
          ]
        }
      ]
    },
    {
      "cell_type": "markdown",
      "source": [
        "##Fusionar y Combinar DataFrames"
      ],
      "metadata": {
        "id": "NhaLHDfbR65M"
      }
    },
    {
      "cell_type": "code",
      "source": [
        "#@title Concatenar DataFrames:\n",
        "print(\"Datos originales \\n\",df)\n",
        "\n",
        "df2 = pd.DataFrame({\n",
        "    'Nombre': ['María', 'Pedro'],\n",
        "    'Edad': [27, 32],\n",
        "    'Ciudad': ['Buenos Aires', 'Bogotá'],\n",
        "    'Salario': [3700, 4100]\n",
        "})\n",
        "\n",
        "print(\"Datos ADICIONALES\\n\",df2)\n",
        "\n",
        "df_concatenado = pd.concat([df, df2], ignore_index=True)\n",
        "print(\"DataFrame concatenado:\")\n",
        "print(df_concatenado)\n",
        "estadisticas = df_concatenado.groupby('Ciudad')['Salario'].agg(['mean', 'max', 'min'])\n",
        "print(\"Estadísticas de salario por ciudad:\")\n",
        "print(estadisticas)\n"
      ],
      "metadata": {
        "colab": {
          "base_uri": "https://localhost:8080/"
        },
        "id": "y0iveDW_R9AJ",
        "outputId": "ff0307c9-80a8-432f-ca50-6780c0059dc5"
      },
      "execution_count": 33,
      "outputs": [
        {
          "output_type": "stream",
          "name": "stdout",
          "text": [
            "Datos originales \n",
            "     Profesion Nombre  Edad    Ciudad  Salario  Años_Desde_Graduación\n",
            "0       Admin    Ana    23    Bogotá   3300.0                      2\n",
            "2  Secretaria  Sofía    29  Santiago   3850.0                      6\n",
            "3   Sociologo   Juan    31     Quito   4620.0                      7\n",
            "Datos ADICIONALES\n",
            "   Nombre  Edad        Ciudad  Salario\n",
            "0  María    27  Buenos Aires     3700\n",
            "1  Pedro    32        Bogotá     4100\n",
            "DataFrame concatenado:\n",
            "    Profesion Nombre  Edad        Ciudad  Salario  Años_Desde_Graduación\n",
            "0       Admin    Ana    23        Bogotá   3300.0                    2.0\n",
            "1  Secretaria  Sofía    29      Santiago   3850.0                    6.0\n",
            "2   Sociologo   Juan    31         Quito   4620.0                    7.0\n",
            "3         NaN  María    27  Buenos Aires   3700.0                    NaN\n",
            "4         NaN  Pedro    32        Bogotá   4100.0                    NaN\n",
            "Estadísticas de salario por ciudad:\n",
            "                mean     max     min\n",
            "Ciudad                              \n",
            "Bogotá        3700.0  4100.0  3300.0\n",
            "Buenos Aires  3700.0  3700.0  3700.0\n",
            "Quito         4620.0  4620.0  4620.0\n",
            "Santiago      3850.0  3850.0  3850.0\n"
          ]
        }
      ]
    },
    {
      "cell_type": "code",
      "source": [
        "#@title Fusionar DataFrames:\n",
        "print(\"Datos originales \\n\",df)\n",
        "detalles = pd.DataFrame({\n",
        "    'Nombre': ['Ana', 'Luis', 'Sofía'],\n",
        "    'Puesto': ['Analista', 'Gerente', 'Desarrolladora']\n",
        "})\n",
        "df_merged = pd.merge(df, detalles, on='Nombre', how='inner')\n",
        "print(\"DataFrame fusionado:\")\n",
        "print(df_merged)\n"
      ],
      "metadata": {
        "colab": {
          "base_uri": "https://localhost:8080/"
        },
        "id": "2nWpdTDvSLzc",
        "outputId": "1f5928ae-a980-4900-ba46-94bc26d63eaf"
      },
      "execution_count": 34,
      "outputs": [
        {
          "output_type": "stream",
          "name": "stdout",
          "text": [
            "Datos originales \n",
            "     Profesion Nombre  Edad    Ciudad  Salario  Años_Desde_Graduación\n",
            "0       Admin    Ana    23    Bogotá   3300.0                      2\n",
            "2  Secretaria  Sofía    29  Santiago   3850.0                      6\n",
            "3   Sociologo   Juan    31     Quito   4620.0                      7\n",
            "DataFrame fusionado:\n",
            "    Profesion Nombre  Edad    Ciudad  Salario  Años_Desde_Graduación  \\\n",
            "0       Admin    Ana    23    Bogotá   3300.0                      2   \n",
            "1  Secretaria  Sofía    29  Santiago   3850.0                      6   \n",
            "\n",
            "           Puesto  \n",
            "0        Analista  \n",
            "1  Desarrolladora  \n"
          ]
        }
      ]
    },
    {
      "cell_type": "markdown",
      "source": [
        "##Exportar Datos"
      ],
      "metadata": {
        "id": "p-p3yPiGSf0I"
      }
    },
    {
      "cell_type": "code",
      "source": [
        "#@title Exportar a un archivo CSV:\n",
        "df.to_csv('datos_limpios.csv', index=False)\n"
      ],
      "metadata": {
        "id": "0Gx4B42kShS8"
      },
      "execution_count": 35,
      "outputs": []
    },
    {
      "cell_type": "code",
      "source": [
        "#@title Exportar a un archivo Excel:\n",
        "df.to_excel('datos_EXCEL.xlsx', index=False)\n"
      ],
      "metadata": {
        "id": "3fC1LGMxS4y2"
      },
      "execution_count": 36,
      "outputs": []
    },
    {
      "cell_type": "code",
      "source": [
        "#@title Leer un archivo de EXCEL anteriormente creado con un DATAFRAME\n",
        "import pandas as pd\n",
        "import os\n",
        "\n",
        "# Get the current working directory\n",
        "current_directory = os.getcwd()\n",
        "print(f\"Current working directory: {current_directory}\")\n",
        "\n",
        "# Construct the full file path\n",
        "ruta_archivo = os.path.join(current_directory, \"datos_EXCEL.xlsx\")\n",
        "\n",
        "# Alternatively, if the file is indeed in a 'content' subdirectory:\n",
        "# ruta_archivo = os.path.join(current_directory, \"content\", \"datos_PRUEBA.xlsx\")\n",
        "\n",
        "# Leer el archivo Excel\n",
        "df = pd.read_excel(ruta_archivo)\n",
        "print(df)\n"
      ],
      "metadata": {
        "colab": {
          "base_uri": "https://localhost:8080/"
        },
        "id": "CbjtA6JgMl2C",
        "outputId": "565dd39a-de49-439e-a4ef-0c7237c93e02"
      },
      "execution_count": 37,
      "outputs": [
        {
          "output_type": "stream",
          "name": "stdout",
          "text": [
            "Current working directory: /content\n",
            "    Profesion Nombre  Edad    Ciudad  Salario  Años_Desde_Graduación\n",
            "0       Admin    Ana    23    Bogotá     3300                      2\n",
            "1  Secretaria  Sofía    29  Santiago     3850                      6\n",
            "2   Sociologo   Juan    31     Quito     4620                      7\n"
          ]
        }
      ]
    },
    {
      "cell_type": "code",
      "source": [
        "#@title Ejemplo IMPORTAR archivos CSV\n",
        "import pandas as pd\n",
        "import matplotlib.pyplot as plt\n",
        "\n",
        "# 1. Cargar el archivo CSV desde la carpeta content\n",
        "file_path = \"/content/RUA.csv\"  # Ruta al archivo\n",
        "data = pd.read_csv(file_path)\n",
        "\n",
        "# 2. Mostrar las primeras filas del DataFrame\n",
        "print(\"Primeras filas del archivo RUA.csv:\")\n",
        "print(data.head())\n",
        "\n",
        "# 3. Mostrar información básica del DataFrame\n",
        "print(\"\\nInformación del DataFrame:\")\n",
        "print(data.info())\n",
        "\n",
        "print(\"\\nEstadísticas descriptivas:\")\n",
        "print(data.describe())"
      ],
      "metadata": {
        "colab": {
          "base_uri": "https://localhost:8080/",
          "height": 373
        },
        "id": "Ivh8AXcBSV6q",
        "outputId": "f77f35f1-3a0b-42e8-e703-b2319380b0f3"
      },
      "execution_count": 38,
      "outputs": [
        {
          "output_type": "error",
          "ename": "FileNotFoundError",
          "evalue": "[Errno 2] No such file or directory: '/content/RUA.csv'",
          "traceback": [
            "\u001b[0;31m---------------------------------------------------------------------------\u001b[0m",
            "\u001b[0;31mFileNotFoundError\u001b[0m                         Traceback (most recent call last)",
            "\u001b[0;32m<ipython-input-38-ba142e376e59>\u001b[0m in \u001b[0;36m<cell line: 7>\u001b[0;34m()\u001b[0m\n\u001b[1;32m      5\u001b[0m \u001b[0;31m# 1. Cargar el archivo CSV desde la carpeta content\u001b[0m\u001b[0;34m\u001b[0m\u001b[0;34m\u001b[0m\u001b[0m\n\u001b[1;32m      6\u001b[0m \u001b[0mfile_path\u001b[0m \u001b[0;34m=\u001b[0m \u001b[0;34m\"/content/RUA.csv\"\u001b[0m  \u001b[0;31m# Ruta al archivo\u001b[0m\u001b[0;34m\u001b[0m\u001b[0;34m\u001b[0m\u001b[0m\n\u001b[0;32m----> 7\u001b[0;31m \u001b[0mdata\u001b[0m \u001b[0;34m=\u001b[0m \u001b[0mpd\u001b[0m\u001b[0;34m.\u001b[0m\u001b[0mread_csv\u001b[0m\u001b[0;34m(\u001b[0m\u001b[0mfile_path\u001b[0m\u001b[0;34m)\u001b[0m\u001b[0;34m\u001b[0m\u001b[0;34m\u001b[0m\u001b[0m\n\u001b[0m\u001b[1;32m      8\u001b[0m \u001b[0;34m\u001b[0m\u001b[0m\n\u001b[1;32m      9\u001b[0m \u001b[0;31m# 2. Mostrar las primeras filas del DataFrame\u001b[0m\u001b[0;34m\u001b[0m\u001b[0;34m\u001b[0m\u001b[0m\n",
            "\u001b[0;32m/usr/local/lib/python3.10/dist-packages/pandas/io/parsers/readers.py\u001b[0m in \u001b[0;36mread_csv\u001b[0;34m(filepath_or_buffer, sep, delimiter, header, names, index_col, usecols, dtype, engine, converters, true_values, false_values, skipinitialspace, skiprows, skipfooter, nrows, na_values, keep_default_na, na_filter, verbose, skip_blank_lines, parse_dates, infer_datetime_format, keep_date_col, date_parser, date_format, dayfirst, cache_dates, iterator, chunksize, compression, thousands, decimal, lineterminator, quotechar, quoting, doublequote, escapechar, comment, encoding, encoding_errors, dialect, on_bad_lines, delim_whitespace, low_memory, memory_map, float_precision, storage_options, dtype_backend)\u001b[0m\n\u001b[1;32m   1024\u001b[0m     \u001b[0mkwds\u001b[0m\u001b[0;34m.\u001b[0m\u001b[0mupdate\u001b[0m\u001b[0;34m(\u001b[0m\u001b[0mkwds_defaults\u001b[0m\u001b[0;34m)\u001b[0m\u001b[0;34m\u001b[0m\u001b[0;34m\u001b[0m\u001b[0m\n\u001b[1;32m   1025\u001b[0m \u001b[0;34m\u001b[0m\u001b[0m\n\u001b[0;32m-> 1026\u001b[0;31m     \u001b[0;32mreturn\u001b[0m \u001b[0m_read\u001b[0m\u001b[0;34m(\u001b[0m\u001b[0mfilepath_or_buffer\u001b[0m\u001b[0;34m,\u001b[0m \u001b[0mkwds\u001b[0m\u001b[0;34m)\u001b[0m\u001b[0;34m\u001b[0m\u001b[0;34m\u001b[0m\u001b[0m\n\u001b[0m\u001b[1;32m   1027\u001b[0m \u001b[0;34m\u001b[0m\u001b[0m\n\u001b[1;32m   1028\u001b[0m \u001b[0;34m\u001b[0m\u001b[0m\n",
            "\u001b[0;32m/usr/local/lib/python3.10/dist-packages/pandas/io/parsers/readers.py\u001b[0m in \u001b[0;36m_read\u001b[0;34m(filepath_or_buffer, kwds)\u001b[0m\n\u001b[1;32m    618\u001b[0m \u001b[0;34m\u001b[0m\u001b[0m\n\u001b[1;32m    619\u001b[0m     \u001b[0;31m# Create the parser.\u001b[0m\u001b[0;34m\u001b[0m\u001b[0;34m\u001b[0m\u001b[0m\n\u001b[0;32m--> 620\u001b[0;31m     \u001b[0mparser\u001b[0m \u001b[0;34m=\u001b[0m \u001b[0mTextFileReader\u001b[0m\u001b[0;34m(\u001b[0m\u001b[0mfilepath_or_buffer\u001b[0m\u001b[0;34m,\u001b[0m \u001b[0;34m**\u001b[0m\u001b[0mkwds\u001b[0m\u001b[0;34m)\u001b[0m\u001b[0;34m\u001b[0m\u001b[0;34m\u001b[0m\u001b[0m\n\u001b[0m\u001b[1;32m    621\u001b[0m \u001b[0;34m\u001b[0m\u001b[0m\n\u001b[1;32m    622\u001b[0m     \u001b[0;32mif\u001b[0m \u001b[0mchunksize\u001b[0m \u001b[0;32mor\u001b[0m \u001b[0miterator\u001b[0m\u001b[0;34m:\u001b[0m\u001b[0;34m\u001b[0m\u001b[0;34m\u001b[0m\u001b[0m\n",
            "\u001b[0;32m/usr/local/lib/python3.10/dist-packages/pandas/io/parsers/readers.py\u001b[0m in \u001b[0;36m__init__\u001b[0;34m(self, f, engine, **kwds)\u001b[0m\n\u001b[1;32m   1618\u001b[0m \u001b[0;34m\u001b[0m\u001b[0m\n\u001b[1;32m   1619\u001b[0m         \u001b[0mself\u001b[0m\u001b[0;34m.\u001b[0m\u001b[0mhandles\u001b[0m\u001b[0;34m:\u001b[0m \u001b[0mIOHandles\u001b[0m \u001b[0;34m|\u001b[0m \u001b[0;32mNone\u001b[0m \u001b[0;34m=\u001b[0m \u001b[0;32mNone\u001b[0m\u001b[0;34m\u001b[0m\u001b[0;34m\u001b[0m\u001b[0m\n\u001b[0;32m-> 1620\u001b[0;31m         \u001b[0mself\u001b[0m\u001b[0;34m.\u001b[0m\u001b[0m_engine\u001b[0m \u001b[0;34m=\u001b[0m \u001b[0mself\u001b[0m\u001b[0;34m.\u001b[0m\u001b[0m_make_engine\u001b[0m\u001b[0;34m(\u001b[0m\u001b[0mf\u001b[0m\u001b[0;34m,\u001b[0m \u001b[0mself\u001b[0m\u001b[0;34m.\u001b[0m\u001b[0mengine\u001b[0m\u001b[0;34m)\u001b[0m\u001b[0;34m\u001b[0m\u001b[0;34m\u001b[0m\u001b[0m\n\u001b[0m\u001b[1;32m   1621\u001b[0m \u001b[0;34m\u001b[0m\u001b[0m\n\u001b[1;32m   1622\u001b[0m     \u001b[0;32mdef\u001b[0m \u001b[0mclose\u001b[0m\u001b[0;34m(\u001b[0m\u001b[0mself\u001b[0m\u001b[0;34m)\u001b[0m \u001b[0;34m->\u001b[0m \u001b[0;32mNone\u001b[0m\u001b[0;34m:\u001b[0m\u001b[0;34m\u001b[0m\u001b[0;34m\u001b[0m\u001b[0m\n",
            "\u001b[0;32m/usr/local/lib/python3.10/dist-packages/pandas/io/parsers/readers.py\u001b[0m in \u001b[0;36m_make_engine\u001b[0;34m(self, f, engine)\u001b[0m\n\u001b[1;32m   1878\u001b[0m                 \u001b[0;32mif\u001b[0m \u001b[0;34m\"b\"\u001b[0m \u001b[0;32mnot\u001b[0m \u001b[0;32min\u001b[0m \u001b[0mmode\u001b[0m\u001b[0;34m:\u001b[0m\u001b[0;34m\u001b[0m\u001b[0;34m\u001b[0m\u001b[0m\n\u001b[1;32m   1879\u001b[0m                     \u001b[0mmode\u001b[0m \u001b[0;34m+=\u001b[0m \u001b[0;34m\"b\"\u001b[0m\u001b[0;34m\u001b[0m\u001b[0;34m\u001b[0m\u001b[0m\n\u001b[0;32m-> 1880\u001b[0;31m             self.handles = get_handle(\n\u001b[0m\u001b[1;32m   1881\u001b[0m                 \u001b[0mf\u001b[0m\u001b[0;34m,\u001b[0m\u001b[0;34m\u001b[0m\u001b[0;34m\u001b[0m\u001b[0m\n\u001b[1;32m   1882\u001b[0m                 \u001b[0mmode\u001b[0m\u001b[0;34m,\u001b[0m\u001b[0;34m\u001b[0m\u001b[0;34m\u001b[0m\u001b[0m\n",
            "\u001b[0;32m/usr/local/lib/python3.10/dist-packages/pandas/io/common.py\u001b[0m in \u001b[0;36mget_handle\u001b[0;34m(path_or_buf, mode, encoding, compression, memory_map, is_text, errors, storage_options)\u001b[0m\n\u001b[1;32m    871\u001b[0m         \u001b[0;32mif\u001b[0m \u001b[0mioargs\u001b[0m\u001b[0;34m.\u001b[0m\u001b[0mencoding\u001b[0m \u001b[0;32mand\u001b[0m \u001b[0;34m\"b\"\u001b[0m \u001b[0;32mnot\u001b[0m \u001b[0;32min\u001b[0m \u001b[0mioargs\u001b[0m\u001b[0;34m.\u001b[0m\u001b[0mmode\u001b[0m\u001b[0;34m:\u001b[0m\u001b[0;34m\u001b[0m\u001b[0;34m\u001b[0m\u001b[0m\n\u001b[1;32m    872\u001b[0m             \u001b[0;31m# Encoding\u001b[0m\u001b[0;34m\u001b[0m\u001b[0;34m\u001b[0m\u001b[0m\n\u001b[0;32m--> 873\u001b[0;31m             handle = open(\n\u001b[0m\u001b[1;32m    874\u001b[0m                 \u001b[0mhandle\u001b[0m\u001b[0;34m,\u001b[0m\u001b[0;34m\u001b[0m\u001b[0;34m\u001b[0m\u001b[0m\n\u001b[1;32m    875\u001b[0m                 \u001b[0mioargs\u001b[0m\u001b[0;34m.\u001b[0m\u001b[0mmode\u001b[0m\u001b[0;34m,\u001b[0m\u001b[0;34m\u001b[0m\u001b[0;34m\u001b[0m\u001b[0m\n",
            "\u001b[0;31mFileNotFoundError\u001b[0m: [Errno 2] No such file or directory: '/content/RUA.csv'"
          ]
        }
      ]
    },
    {
      "cell_type": "code",
      "source": [
        "#@title Actualización de la FECHA\n",
        "data['FECHA ACTUALIZACIÓN'] = pd.to_datetime(data['FECHA ACTUALIZACIÓN'])\n"
      ],
      "metadata": {
        "id": "zxtV2BHCf3gf"
      },
      "execution_count": null,
      "outputs": []
    },
    {
      "cell_type": "code",
      "source": [
        "print(\"Primeras filas del archivo RUA.csv:\")\n",
        "print(data.head())"
      ],
      "metadata": {
        "id": "PNN2dcV_gXYp",
        "outputId": "7eae1872-f004-4570-c664-ddf36d30db02",
        "colab": {
          "base_uri": "https://localhost:8080/"
        }
      },
      "execution_count": null,
      "outputs": [
        {
          "output_type": "stream",
          "name": "stdout",
          "text": [
            "Primeras filas del archivo RUA.csv:\n",
            "   CONSECUTIVO           FECHA ACTUALIZACIÓN  VIGENCIA PRIMER NOMBRE  \\\n",
            "0            1 1970-01-01 00:00:00.000043866    2020.0        CARLOS   \n",
            "1            2 1970-01-01 00:00:00.000043866    2020.0          LUIS   \n",
            "2            3 1970-01-01 00:00:00.000043866    2020.0        WILSON   \n",
            "3            4 1970-01-01 00:00:00.000043866    2020.0         PABLO   \n",
            "4            5 1970-01-01 00:00:00.000043866    2020.0      REINALDO   \n",
            "\n",
            "  SEGUNDO NOMBRE PRIMER APELLIDO SEGUNDO APELLIDO    SEXO    ETNIA  \\\n",
            "0         ANDRES          SUAREZ         MOSQUERA  HOMBRE  NINGUNA   \n",
            "1        ALBERTO          ARDILA        NO APLICA  HOMBRE  NINGUNA   \n",
            "2         JAVIER           ROJAS            ROJAS  HOMBRE  NINGUNA   \n",
            "3        ANTONIO            RUIZ         CHAPARRO  HOMBRE  NINGUNA   \n",
            "4      NO APLICA            RUIZ           ARDILA  HOMBRE  NINGUNA   \n",
            "\n",
            "   DISCAPACIDAD DEPARTAMENTO        MUNICIPIO  CODIGO MUNICIPIO  \\\n",
            "0         False    SANTANDER  PUENTE NACIONAL           68572.0   \n",
            "1         False    SANTANDER  PUENTE NACIONAL           68572.0   \n",
            "2         False    SANTANDER  PUENTE NACIONAL           68572.0   \n",
            "3         False    SANTANDER  PUENTE NACIONAL           68572.0   \n",
            "4         False    SANTANDER  PUENTE NACIONAL           68572.0   \n",
            "\n",
            "  VEREDA CORREGIMIENTO   NOMBRE FINCA ACTIVIDAD PRODUCIDA PRODUCTO  HECTAREAS  \n",
            "0              POPOITA      EL PLACER            AGRÍCOLA  GUAYABA       1.10  \n",
            "1            POPOA SUR    LA CARRILLA            AGRÍCOLA  GUAYABA       1.20  \n",
            "2            POPOA SUR  CAMPO HERMOSO            AGRÍCOLA  GUAYABA       2.00  \n",
            "3            POPOA SUR     EL PARAISO            AGRÍCOLA  GUAYABA       0.80  \n",
            "4            POPOA SUR    VILLA GOMEZ            AGRÍCOLA  GUAYABA       0.88  \n"
          ]
        }
      ]
    },
    {
      "cell_type": "code",
      "source": [
        "estadisticas = data.groupby('SEXO')['HECTAREAS'].agg(['mean', 'max', 'min','sum'])\n",
        "print(\"\\nEstadísticas de HECTAREAS por SEXO del agricultor:\")\n",
        "print(estadisticas)\n"
      ],
      "metadata": {
        "colab": {
          "base_uri": "https://localhost:8080/"
        },
        "id": "pfpNfzuRXTEH",
        "outputId": "e8de406b-a73e-4e6f-a9e9-e48e3b124136"
      },
      "execution_count": null,
      "outputs": [
        {
          "output_type": "stream",
          "name": "stdout",
          "text": [
            "\n",
            "Estadísticas de HECTAREAS por SEXO del agricultor:\n",
            "            mean   max   min       sum\n",
            "SEXO                                  \n",
            "HOMBRE  3.540413  33.0  0.08  2025.116\n",
            "MUJER   3.058140  17.0  0.00   920.500\n"
          ]
        }
      ]
    },
    {
      "cell_type": "code",
      "source": [
        "#@title OTRO ejemplo de importacion de archivo EXCEL\n",
        "\n",
        "#@title Leer un archivo de EXCEL anteriormente creado con un DATAFRAME\n",
        "import pandas as pd\n",
        "\n",
        "\n",
        "file_path = \"/content/CensoTurismo.xlsx\"  # Ruta al archivo\n",
        "dataEXCEL = pd.read_excel(file_path)\n",
        "\n",
        "# 2. Mostrar las primeras filas del DataFrame\n",
        "print(\"Primeras filas del archivo CensoTurismo.xlsx:\")\n",
        "print(dataEXCEL.head())\n",
        "\n",
        "# 3. Mostrar información básica del DataFrame\n",
        "print(\"\\nInformación del DataFrame:\")\n",
        "print(dataEXCEL.info())\n",
        "\n",
        "print(\"\\nEstadísticas descriptivas:\")\n",
        "print(dataEXCEL.describe())\n",
        "\n"
      ],
      "metadata": {
        "colab": {
          "base_uri": "https://localhost:8080/"
        },
        "id": "lEfFmmX2bzYD",
        "outputId": "54179bff-f4d7-4ebb-c104-d9bf6f95309b"
      },
      "execution_count": null,
      "outputs": [
        {
          "output_type": "stream",
          "name": "stdout",
          "text": [
            "Primeras filas del archivo CensoTurismo.xlsx:\n",
            "   Numero del RNT  Estado  Matricula Mercantil  \\\n",
            "0           1.270  Activo               95.495   \n",
            "1          20.883  Activo              199.132   \n",
            "2          29.158  Activo              134.832   \n",
            "3          29.325  Activo              203.560   \n",
            "4          31.624  Activo              245.145   \n",
            "\n",
            "  Camara de Comercio Establecimiento  Municipio Municipio Notificaciones  \\\n",
            "0                             CUCUTA  CHINACOTA                CHINACOTA   \n",
            "1                             CUCUTA  CHINACOTA                CHINACOTA   \n",
            "2                             CUCUTA  CHINACOTA                   CUCUTA   \n",
            "3                             CUCUTA  CHINACOTA                CHINACOTA   \n",
            "4                             CUCUTA  CHINACOTA                CHINACOTA   \n",
            "\n",
            "                            Nombre Comercial            NIT  \\\n",
            "0  HOTEL Y RESTAURANTE ISLAVITA DE CHINACOTA     13,256,746   \n",
            "1                HOTEL COLONIAL DE CHINACOTA    900,330,128   \n",
            "2                     TRAVESIAS TOURS S.A.S.    900,011,258   \n",
            "3                   HOTEL EL BOSQUE GUAYABAL  1,090,174,310   \n",
            "4              HOSPEDAJE EL RANCHO DE STIVEN     88,155,830   \n",
            "\n",
            "   Digito de Verificacion                                       Razon Social  \\\n",
            "0                       2                                                NaN   \n",
            "1                       4                           CHINACOTA COLONIAL S.A.S   \n",
            "2                       5  AGENCIA DE VIAJES Y TRANSPORTES ESPECIALES TRA...   \n",
            "3                       3                                ALVAREZ ROZO RAFAEL   \n",
            "4                       2                                  GELVES RICO EDGAR   \n",
            "\n",
            "           Representante Legal               Nombre Gerente  \\\n",
            "0                 JORGE RANGEL                 JORGE RANGEL   \n",
            "1  javier raul rojas betancour  JAVIER RAÚL ROJAS BETANCOUR   \n",
            "2    David Alonso Leal Caicedo    DAVID ALONSO LEAL CAICEDO   \n",
            "3          rafael alvarez rozo          ALVAREZ ROZO RAFAEL   \n",
            "4            GELVES RICO EDGAR            EDGAR GELVES RICO   \n",
            "\n",
            "                                    Categoria  \n",
            "0  ESTABLECIMIENTO DE ALOJAMIENTO Y HOSPEDAJE  \n",
            "1  ESTABLECIMIENTO DE ALOJAMIENTO Y HOSPEDAJE  \n",
            "2   EMPRESA DE TRANSPORTE TERRESTRE AUTOMOTOR  \n",
            "3  ESTABLECIMIENTO DE ALOJAMIENTO Y HOSPEDAJE  \n",
            "4  ESTABLECIMIENTO DE ALOJAMIENTO Y HOSPEDAJE  \n",
            "\n",
            "Información del DataFrame:\n",
            "<class 'pandas.core.frame.DataFrame'>\n",
            "RangeIndex: 90 entries, 0 to 89\n",
            "Data columns (total 13 columns):\n",
            " #   Column                              Non-Null Count  Dtype  \n",
            "---  ------                              --------------  -----  \n",
            " 0   Numero del RNT                      90 non-null     float64\n",
            " 1   Estado                              90 non-null     object \n",
            " 2   Matricula Mercantil                 90 non-null     float64\n",
            " 3   Camara de Comercio Establecimiento  90 non-null     object \n",
            " 4   Municipio                           90 non-null     object \n",
            " 5   Municipio Notificaciones            90 non-null     object \n",
            " 6   Nombre Comercial                    90 non-null     object \n",
            " 7   NIT                                 90 non-null     object \n",
            " 8   Digito de Verificacion              90 non-null     int64  \n",
            " 9   Razon Social                        88 non-null     object \n",
            " 10  Representante Legal                 90 non-null     object \n",
            " 11  Nombre Gerente                      90 non-null     object \n",
            " 12  Categoria                           90 non-null     object \n",
            "dtypes: float64(2), int64(1), object(10)\n",
            "memory usage: 9.3+ KB\n",
            "None\n",
            "\n",
            "Estadísticas descriptivas:\n",
            "       Numero del RNT  Matricula Mercantil  Digito de Verificacion\n",
            "count       90.000000            90.000000               90.000000\n",
            "mean        54.869367           298.653989                3.977778\n",
            "std         10.593650            63.752211                2.804402\n",
            "min          1.270000            58.426000                0.000000\n",
            "25%         56.985000           289.264750                2.000000\n",
            "50%         59.812000           332.853000                4.000000\n",
            "75%         59.919750           333.705500                6.000000\n",
            "max         61.509000           335.246000                9.000000\n"
          ]
        }
      ]
    },
    {
      "cell_type": "code",
      "source": [
        "estad_Categoria = dataEXCEL.groupby('Categoria')['Categoria'].agg(['count'])\n",
        "print(\"\\nEstadísticas de cantidad de ESTABLECIMIETNOS por Municipio:\")\n",
        "print(estad_Categoria)\n",
        "\n",
        "estad_Estado = dataEXCEL.groupby('Estado')['Estado'].agg(['count'])\n",
        "print(\"\\nEstadísticas de cantidad de ESTABLECIMIENTOS por Estado:\")\n",
        "print(estad_Estado)\n",
        "\n"
      ],
      "metadata": {
        "colab": {
          "base_uri": "https://localhost:8080/"
        },
        "id": "rj4EoSLicuoO",
        "outputId": "0a512837-1a76-448d-fe28-5c84b5ac1eb9"
      },
      "execution_count": null,
      "outputs": [
        {
          "output_type": "stream",
          "name": "stdout",
          "text": [
            "\n",
            "Estadísticas de cantidad de ESTABLECIMIETNOS por Municipio:\n",
            "                                                  count\n",
            "Categoria                                              \n",
            "CONCESIONARIOS DE SERVICIOS TURÍSTICOS EN PARQUE      1\n",
            "EMPRESA DE TRANSPORTE TERRESTRE AUTOMOTOR             1\n",
            "ESTABLECIMIENTO DE ALOJAMIENTO Y HOSPEDAJE           87\n",
            "PARQUES TEMÁTICOS                                     1\n",
            "\n",
            "Estadísticas de cantidad de ESTABLECIMIENTOS por Estado:\n",
            "            count\n",
            "Estado           \n",
            "Activo         88\n",
            "Suspendido      2\n"
          ]
        }
      ]
    },
    {
      "cell_type": "markdown",
      "source": [
        "#Ejercicio: Gestión de Datos con Pandas\n",
        "\n",
        "**Enunciado:**\n",
        "Eres un analista de ventas y necesitas procesar un conjunto de datos sobre productos vendidos en una tienda. Sigue los pasos descritos para completar el ejercicio:\n",
        "\n",
        "1. Crea un DataFrame con los siguientes datos:\n",
        "Producto: ['Manzanas', 'Plátanos', 'Naranjas', 'Uvas']\n",
        "Cantidad Vendida: [50, 30, 20, 45]\n",
        "Precio Unitario: [1.5, 0.8, 1.2, 2.5]\n",
        "Almacenar el DataFrame en un archivo Excel:\n",
        "\n",
        "2. Guarda el DataFrame en un archivo llamado ventas.xlsx.\n",
        "Leer el archivo Excel:\n",
        "\n",
        "3. Recupera los datos almacenados en el archivo Excel para verificar su contenido.\n",
        "Realizar una operación con el DataFrame:\n",
        "\n",
        "4. Calcula una nueva columna llamada Ingresos Totales que sea el resultado de multiplicar la Cantidad Vendida por el Precio Unitario.\n",
        "Filtrar datos:\n",
        "\n",
        "5. Filtra los productos con Ingresos Totales superiores a 50 y muestra los resultados.\n",
        "Guardar el resultado final:\n",
        "\n",
        "6. Guarda el DataFrame con los ingresos calculados y filtrados en un nuevo archivo llamado ventas_filtradas.xlsx."
      ],
      "metadata": {
        "id": "2w4J4LnGP3ew"
      }
    }
  ]
}