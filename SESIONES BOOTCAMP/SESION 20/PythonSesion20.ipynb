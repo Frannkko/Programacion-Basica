{
  "nbformat": 4,
  "nbformat_minor": 0,
  "metadata": {
    "colab": {
      "provenance": []
    },
    "kernelspec": {
      "name": "python3",
      "display_name": "Python 3"
    },
    "language_info": {
      "name": "python"
    }
  },
  "cells": [
    {
      "cell_type": "markdown",
      "source": [
        "  Función sin parámetros y sin retorno\n",
        "  "
      ],
      "metadata": {
        "id": "NZejUE2gvXCe"
      }
    },
    {
      "cell_type": "code",
      "execution_count": null,
      "metadata": {
        "colab": {
          "base_uri": "https://localhost:8080/"
        },
        "id": "_qd31Eiot1M8",
        "outputId": "a50ac800-5878-4030-8730-f7ded3bf20b3"
      },
      "outputs": [
        {
          "output_type": "stream",
          "name": "stdout",
          "text": [
            "Hola, mundo.\n"
          ]
        }
      ],
      "source": [
        "#Definición de la función\n",
        "def saludar():\n",
        "  print('Hola, mundo.')\n",
        "#Llamado de la función\n",
        "saludar()"
      ]
    },
    {
      "cell_type": "markdown",
      "source": [
        "Función con parámetros y sin retorno."
      ],
      "metadata": {
        "id": "wQAOXdY-uZpq"
      }
    },
    {
      "cell_type": "code",
      "source": [
        "def multiplicar(n1, n2):\n",
        "  resultado = n1 * n2\n",
        "  print(f'El resultado de la multiplicación es: {resultado}')\n",
        "multiplicar(10,8)"
      ],
      "metadata": {
        "colab": {
          "base_uri": "https://localhost:8080/"
        },
        "id": "JiUJ4mFHub6-",
        "outputId": "e6ee2b35-7dec-437e-cbfc-ee80676f2d6e"
      },
      "execution_count": null,
      "outputs": [
        {
          "output_type": "stream",
          "name": "stdout",
          "text": [
            "El resultado de la multiplicación es: 80\n"
          ]
        }
      ]
    },
    {
      "cell_type": "markdown",
      "source": [
        "Función con parámetros y retorno de valor"
      ],
      "metadata": {
        "id": "GJQSUDjFwsPy"
      }
    },
    {
      "cell_type": "code",
      "source": [
        "def sumar (a,b):\n",
        "  return a+b\n",
        "resultado = sumar(5,3)\n",
        "print(resultado)"
      ],
      "metadata": {
        "colab": {
          "base_uri": "https://localhost:8080/"
        },
        "id": "aKb1X8fguQMK",
        "outputId": "93fa708c-d766-45bb-f601-537c75d91de7"
      },
      "execution_count": null,
      "outputs": [
        {
          "output_type": "stream",
          "name": "stdout",
          "text": [
            "8\n"
          ]
        }
      ]
    },
    {
      "cell_type": "code",
      "source": [
        "def sumatoria (lista):\n",
        "  return sum(lista)\n",
        "def mayor (lista):\n",
        "  return max(lista)\n",
        "def menor (lista):\n",
        "  return min(lista)\n",
        "milista=([1,2,3,4,5])\n",
        "print('La sumatoria es: ',sumatoria(milista))\n",
        "print('El número mayor de la lista es: ',mayor(milista))\n",
        "print('El número menor de la lista es: ',menor(milista))"
      ],
      "metadata": {
        "colab": {
          "base_uri": "https://localhost:8080/"
        },
        "id": "9-gwH4NH9vD1",
        "outputId": "7359776d-067a-40d0-ea54-0ba5d9d66faa"
      },
      "execution_count": null,
      "outputs": [
        {
          "output_type": "stream",
          "name": "stdout",
          "text": [
            "La sumatoria es:  15\n",
            "El número mayor de la lista es:  5\n",
            "El número menor de la lista es:  1\n"
          ]
        }
      ]
    },
    {
      "cell_type": "markdown",
      "source": [
        "Escribir una funcion que reciba una lista de string y nos retorne el que tiene más caracteres. Si hay más de uno con dicha cantidad de caracteres debe retornar el que tiene un valor de componente más bajo.\n",
        "\n",
        "\n"
      ],
      "metadata": {
        "id": "7Eqmdnuu_pch"
      }
    },
    {
      "cell_type": "code",
      "source": [
        "def string_mas_largo(palabras):\n",
        "  pos=0\n",
        "  for x in range(len(palabras)):\n",
        "      if len(palabras[x]) > len(palabras[pos]):\n",
        "         pos=x\n",
        "  return palabras[pos]\n",
        "\n",
        "palabras=['Enero','Febrero','Marzo','Abril','Mayo','Junio','Julio','Agosto','Septiembre','Octubre','Noviembre','Diciembre']\n",
        "print(f'La palabra con más caracteres es:', string_mas_largo(palabras))\n",
        "\n",
        "\n"
      ],
      "metadata": {
        "colab": {
          "base_uri": "https://localhost:8080/"
        },
        "id": "suwx83iVAHsV",
        "outputId": "fd4eaea6-2879-41d7-c88d-8bf21feb95d0"
      },
      "execution_count": null,
      "outputs": [
        {
          "output_type": "stream",
          "name": "stdout",
          "text": [
            "La palabra con más caracteres es: Septiembre\n"
          ]
        }
      ]
    },
    {
      "cell_type": "markdown",
      "source": [
        "Archivos"
      ],
      "metadata": {
        "id": "0LegqxczU_yl"
      }
    },
    {
      "cell_type": "code",
      "source": [
        "#Lista de lineas para escribir en el archivo\n",
        "lineas=['Primera línea', 'Segunda línea','Tercera línea']\n",
        "\n",
        "#Abrir el archivo en modo escritura\n",
        "with open('archivo.txt', 'w') as archivo:\n",
        "  #Escribir cada línea en el archivo\n",
        "  for linea in lineas:\n",
        "    archivo.write(linea + '\\n')"
      ],
      "metadata": {
        "id": "l6c-W4YJU_Ct"
      },
      "execution_count": null,
      "outputs": []
    }
  ]
}